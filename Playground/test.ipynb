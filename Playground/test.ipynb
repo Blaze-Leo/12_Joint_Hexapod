{
 "cells": [
  {
   "cell_type": "code",
   "execution_count": 3,
   "id": "88928b68",
   "metadata": {},
   "outputs": [
    {
     "name": "stdout",
     "output_type": "stream",
     "text": [
      "Successfully combined files to /mnt/Personal/Projects/Hexapod/Hardware/control_all.txt\n"
     ]
    },
    {
     "data": {
      "text/plain": [
       "True"
      ]
     },
     "execution_count": 3,
     "metadata": {},
     "output_type": "execute_result"
    }
   ],
   "source": [
    "import os\n",
    "\n",
    "def combine_files(origin_folder, destination_file):\n",
    "    \"\"\"\n",
    "    Combines all files from origin_folder into destination_file with separators and headers,\n",
    "    skipping lines that contain only slashes.\n",
    "    \n",
    "    Args:\n",
    "        origin_folder (str): Path to the folder containing files to combine\n",
    "        destination_file (str): Path where the combined file should be created\n",
    "    \"\"\"\n",
    "    try:\n",
    "        with open(destination_file, 'w', encoding='utf-8') as outfile:\n",
    "            # Get all files in the origin folder\n",
    "            for filename in sorted(os.listdir(origin_folder)):\n",
    "                filepath = os.path.join(origin_folder, filename)\n",
    "                \n",
    "                # Skip directories\n",
    "                if os.path.isdir(filepath):\n",
    "                    continue\n",
    "                \n",
    "                # Write file header\n",
    "                outfile.write(f'///////////////\\n')\n",
    "                outfile.write(f'///////////////\\n')\n",
    "                outfile.write(f'// {filename}\\n')\n",
    "                outfile.write(f'///////////////\\n')\n",
    "                outfile.write(f'///////////////\\n\\n')\n",
    "                \n",
    "                # Write file content\n",
    "                try:\n",
    "                    with open(filepath, 'r', encoding='utf-8') as infile:\n",
    "                        for line in infile:\n",
    "                            stripped = line.strip()\n",
    "                            if stripped and all(c == '/' for c in stripped):\n",
    "                                # Skip line if it consists only of slashes\n",
    "                                continue\n",
    "                            outfile.write(line)\n",
    "                except UnicodeDecodeError:\n",
    "                    # Fallback to binary read if text read fails\n",
    "                    outfile.write(f\"[Binary file content - {filename}]\\n\\n\")\n",
    "                \n",
    "                # Write file footer\n",
    "                outfile.write('\\n/////////////////\\n')\n",
    "                outfile.write('/////////////////\\n')\n",
    "                outfile.write('/////////////////\\n\\n')\n",
    "                \n",
    "        print(f\"Successfully combined files to {destination_file}\")\n",
    "        return True\n",
    "    \n",
    "    except Exception as e:\n",
    "        print(f\"Error combining files: {e}\")\n",
    "        return False\n",
    "\n",
    "# Example usage:\n",
    "combine_files('/mnt/Personal/Projects/Hexapod/Hardware/control', '/mnt/Personal/Projects/Hexapod/Hardware/control_all.txt')\n"
   ]
  }
 ],
 "metadata": {
  "kernelspec": {
   "display_name": "Python3_11",
   "language": "python",
   "name": "python3"
  },
  "language_info": {
   "codemirror_mode": {
    "name": "ipython",
    "version": 3
   },
   "file_extension": ".py",
   "mimetype": "text/x-python",
   "name": "python",
   "nbconvert_exporter": "python",
   "pygments_lexer": "ipython3",
   "version": "3.11.13"
  }
 },
 "nbformat": 4,
 "nbformat_minor": 5
}
