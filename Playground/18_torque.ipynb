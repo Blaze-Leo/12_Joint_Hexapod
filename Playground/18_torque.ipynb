{
 "cells": [
  {
   "cell_type": "markdown",
   "id": "e6a20454",
   "metadata": {},
   "source": [
    "Default Variables   \n",
    "(Weight - g)\n",
    "(Length - cm)"
   ]
  },
  {
   "cell_type": "code",
   "execution_count": 1,
   "id": "8b2c658c",
   "metadata": {},
   "outputs": [],
   "source": [
    "centre_weight = 1000\n",
    "\n",
    "per_leg_weight = centre_weight/3\n",
    "coxa_weight = 20\n",
    "femur_weight = 20\n",
    "tibia_weight = 20\n",
    "\n",
    "centre_length = 4\n",
    "coxa_length = 5\n",
    "femur_length = 12\n",
    "tibia_length = 15\n",
    "\n",
    "servo_1_weight = 9\n",
    "servo_2_weight = 55\n",
    "servo_3_weight = 55\n",
    "\n",
    "g=9.81"
   ]
  },
  {
   "cell_type": "markdown",
   "id": "7dc5470c",
   "metadata": {},
   "source": [
    "Conversion"
   ]
  },
  {
   "cell_type": "code",
   "execution_count": 2,
   "id": "b58000b6",
   "metadata": {},
   "outputs": [],
   "source": [
    "w1=(per_leg_weight*g)/1000\n",
    "w2=(coxa_weight*g)/1000\n",
    "w3=(femur_weight*g)/1000\n",
    "w4=(tibia_weight*g)/1000\n",
    "\n",
    "l1=centre_length/100\n",
    "l2=coxa_length/100\n",
    "l3=femur_length/100\n",
    "l4=tibia_length/100\n",
    "\n",
    "s1=(servo_1_weight*g)/1000\n",
    "s2=(servo_2_weight*g)/1000\n",
    "s3=(servo_3_weight*g)/1000"
   ]
  },
  {
   "cell_type": "markdown",
   "id": "02a2860c",
   "metadata": {},
   "source": [
    "Torque Calculation (N m)"
   ]
  },
  {
   "cell_type": "code",
   "execution_count": 3,
   "id": "39b62f97",
   "metadata": {},
   "outputs": [],
   "source": [
    "t1 = 0\n",
    "# need consideration in xy plane\n",
    "\n",
    "t2 = w1*(l1/2+l2) + s1*l2 + w2*(l2/2) + w3*(l3/2) + w4*(l3+l4/2)\n",
    "\n",
    "t3 = w4*(l4/2) + w3*(l3/2) + s2*w3 + w2*(l3+l2/2) + s1*(l2+l3) + w1*(l1/2+l2+l3)"
   ]
  },
  {
   "cell_type": "markdown",
   "id": "9e8901bf",
   "metadata": {},
   "source": [
    "Conversion (kg cm)"
   ]
  },
  {
   "cell_type": "code",
   "execution_count": 4,
   "id": "65b1d787",
   "metadata": {},
   "outputs": [
    {
     "name": "stdout",
     "output_type": "stream",
     "text": [
      "Torque 1 -  0.0\n",
      "Torque 2 -  2.938333333333333\n",
      "Torque 3 -  8.125433333333332\n"
     ]
    }
   ],
   "source": [
    "torque_1 = t1*(100/g)\n",
    "torque_2 = t2*(100/g)\n",
    "torque_3 = t3*(100/g)\n",
    "\n",
    "print(\"Torque 1 - \",torque_1)\n",
    "print(\"Torque 2 - \",torque_2)\n",
    "print(\"Torque 3 - \",torque_3)"
   ]
  }
 ],
 "metadata": {
  "kernelspec": {
   "display_name": "Python3_11",
   "language": "python",
   "name": "python3"
  },
  "language_info": {
   "codemirror_mode": {
    "name": "ipython",
    "version": 3
   },
   "file_extension": ".py",
   "mimetype": "text/x-python",
   "name": "python",
   "nbconvert_exporter": "python",
   "pygments_lexer": "ipython3",
   "version": "3.11.13"
  }
 },
 "nbformat": 4,
 "nbformat_minor": 5
}
